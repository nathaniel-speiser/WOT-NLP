{
 "cells": [
  {
   "cell_type": "code",
   "execution_count": 292,
   "id": "engaged-break",
   "metadata": {},
   "outputs": [],
   "source": [
    "import re\n",
    "import pandas as pd\n",
    "import string\n",
    "import pickle\n",
    "from textblob import TextBlob\n",
    "from tqdm._tqdm_notebook import tqdm_notebook\n",
    "tqdm_notebook.pandas()\n",
    "import spacy\n",
    "from nltk.corpus import stopwords"
   ]
  },
  {
   "cell_type": "code",
   "execution_count": 293,
   "id": "temporal-buffalo",
   "metadata": {},
   "outputs": [],
   "source": [
    "def import_book(num):\n",
    "    with open('books/book{}.txt'.format(num), 'r') as book:\n",
    "        text = book.read()\n",
    "    raw_chapters = re.split('CHAPTER|EPILOGUE',text)\n",
    "    chapters = [' '.join(chapter.split()) for chapter in raw_chapters]\n",
    "    chapters = [chapter.lower() for chapter in chapters]\n",
    "    return chapters\n",
    "\n",
    "def clean_chapter(text, chapter_name):\n",
    "    text = re.sub('[%s]' % re.escape(string.punctuation), '', text)\n",
    "    text = re.sub('\\w*\\d\\w*', '', text)\n",
    "    text = re.sub('[‘’“”…▼—]', '', text)\n",
    "    text = re.sub('prologue|epilogue', '', text)\n",
    "    \n",
    "    beginning = text[:100]\n",
    "    end = text[100:]\n",
    "    beginning = re.sub(chapter_name.lower().strip(), '',beginning)\n",
    "    \n",
    "    text= (beginning+end).strip()\n",
    "    text=' '.join(text.split())\n",
    "    return text\n",
    "\n",
    "def clean_titles(text):\n",
    "    text = ''.join(i for i in text if not i.isdigit())\n",
    "    text = re.sub('[%s]' % re.escape(string.punctuation), '', text)\n",
    "    text = re.sub('\\w*\\d\\w*', '', text)\n",
    "    text = re.sub('Epilogue', '', text)\n",
    "    text = re.sub('Prologue', '', text)\n",
    "    return text\n",
    "\n",
    "plural_exceptions = ['aes', 'lews', 'talmanes', 'pips']\n",
    "def singularize_chapter(text, exceptions = plural_exceptions):\n",
    "    tb = TextBlob(text)\n",
    "    words = tb.words\n",
    "    sing_list=[word if word in exceptions else word.singularize() for word in words]\n",
    "    return ' '.join(sing_list)\n",
    "\n"
   ]
  },
  {
   "cell_type": "code",
   "execution_count": 294,
   "id": "graphic-domain",
   "metadata": {},
   "outputs": [],
   "source": [
    "sw = stopwords.words('english')\n",
    "sw = [w.translate(str.maketrans('', '', string.punctuation)) for w in sw]\n",
    "sw = list(set(sw))\n",
    "sw.extend(['said','did','like', 'woman', 'man'])\n",
    "\n",
    "def remove_stopwords(text, stop_words = sw):\n",
    "    return ' '.join([word for word in text.split() if word not in stop_words])"
   ]
  },
  {
   "cell_type": "code",
   "execution_count": 295,
   "id": "later-memphis",
   "metadata": {},
   "outputs": [
    {
     "name": "stdout",
     "output_type": "stream",
     "text": [
      "Book 1 54 chapters\n",
      "Book 2 51 chapters\n",
      "Book 3 57 chapters\n",
      "Book 4 58 chapters\n",
      "Book 5 57 chapters\n",
      "Book 6 57 chapters\n",
      "Book 7 42 chapters\n",
      "Book 8 32 chapters\n",
      "Book 9 36 chapters\n",
      "Book 10 32 chapters\n",
      "Book 11 39 chapters\n",
      "Book 12 52 chapters\n",
      "Book 13 59 chapters\n",
      "Book 14 51 chapters\n"
     ]
    }
   ],
   "source": [
    "all_text = []\n",
    "for num in range(1,15):\n",
    "    book = import_book(num)\n",
    "    if num == 4:\n",
    "        book = book[1:]\n",
    "    print('Book', num, len(book), \"chapters\")\n",
    "    all_text.extend(book)\n",
    "    "
   ]
  },
  {
   "cell_type": "code",
   "execution_count": 296,
   "id": "czech-behalf",
   "metadata": {},
   "outputs": [
    {
     "data": {
      "text/html": [
       "<div>\n",
       "<style scoped>\n",
       "    .dataframe tbody tr th:only-of-type {\n",
       "        vertical-align: middle;\n",
       "    }\n",
       "\n",
       "    .dataframe tbody tr th {\n",
       "        vertical-align: top;\n",
       "    }\n",
       "\n",
       "    .dataframe thead th {\n",
       "        text-align: right;\n",
       "    }\n",
       "</style>\n",
       "<table border=\"1\" class=\"dataframe\">\n",
       "  <thead>\n",
       "    <tr style=\"text-align: right;\">\n",
       "      <th></th>\n",
       "      <th>text</th>\n",
       "    </tr>\n",
       "  </thead>\n",
       "  <tbody>\n",
       "    <tr>\n",
       "      <th>0</th>\n",
       "      <td>prologue dragonmount the palace still shook oc...</td>\n",
       "    </tr>\n",
       "    <tr>\n",
       "      <th>1</th>\n",
       "      <td>1 an empty road the wheel of time turns, and a...</td>\n",
       "    </tr>\n",
       "    <tr>\n",
       "      <th>2</th>\n",
       "      <td>2 strangers when rand and mat carried the firs...</td>\n",
       "    </tr>\n",
       "    <tr>\n",
       "      <th>3</th>\n",
       "      <td>3 the peddler clusters of pots clattered and b...</td>\n",
       "    </tr>\n",
       "    <tr>\n",
       "      <th>4</th>\n",
       "      <td>4 the gleeman the door of the inn banged shut ...</td>\n",
       "    </tr>\n",
       "    <tr>\n",
       "      <th>...</th>\n",
       "      <td>...</td>\n",
       "    </tr>\n",
       "    <tr>\n",
       "      <th>672</th>\n",
       "      <td>46 to awaken rand broke free from the darkness...</td>\n",
       "    </tr>\n",
       "    <tr>\n",
       "      <th>673</th>\n",
       "      <td>47 she fought it off, but barely. the forsaken...</td>\n",
       "    </tr>\n",
       "    <tr>\n",
       "      <th>674</th>\n",
       "      <td>48 so many dead. hundreds of thousands of men ...</td>\n",
       "    </tr>\n",
       "    <tr>\n",
       "      <th>675</th>\n",
       "      <td>49 beneath that was only emptiness. in the wol...</td>\n",
       "    </tr>\n",
       "    <tr>\n",
       "      <th>676</th>\n",
       "      <td>rand slipped on his blood. he couldn’t see. he...</td>\n",
       "    </tr>\n",
       "  </tbody>\n",
       "</table>\n",
       "<p>677 rows × 1 columns</p>\n",
       "</div>"
      ],
      "text/plain": [
       "                                                  text\n",
       "0    prologue dragonmount the palace still shook oc...\n",
       "1    1 an empty road the wheel of time turns, and a...\n",
       "2    2 strangers when rand and mat carried the firs...\n",
       "3    3 the peddler clusters of pots clattered and b...\n",
       "4    4 the gleeman the door of the inn banged shut ...\n",
       "..                                                 ...\n",
       "672  46 to awaken rand broke free from the darkness...\n",
       "673  47 she fought it off, but barely. the forsaken...\n",
       "674  48 so many dead. hundreds of thousands of men ...\n",
       "675  49 beneath that was only emptiness. in the wol...\n",
       "676  rand slipped on his blood. he couldn’t see. he...\n",
       "\n",
       "[677 rows x 1 columns]"
      ]
     },
     "execution_count": 296,
     "metadata": {},
     "output_type": "execute_result"
    }
   ],
   "source": [
    "text_df = pd.DataFrame(all_text, columns = ['text'])\n",
    "text_df"
   ]
  },
  {
   "cell_type": "code",
   "execution_count": 297,
   "id": "dirty-fight",
   "metadata": {},
   "outputs": [],
   "source": [
    "chapter_names = pd.read_csv('data/chapters.csv', usecols = ['chapter_title', 'book_title'])"
   ]
  },
  {
   "cell_type": "code",
   "execution_count": 298,
   "id": "unauthorized-window",
   "metadata": {},
   "outputs": [
    {
     "data": {
      "text/html": [
       "<div>\n",
       "<style scoped>\n",
       "    .dataframe tbody tr th:only-of-type {\n",
       "        vertical-align: middle;\n",
       "    }\n",
       "\n",
       "    .dataframe tbody tr th {\n",
       "        vertical-align: top;\n",
       "    }\n",
       "\n",
       "    .dataframe thead th {\n",
       "        text-align: right;\n",
       "    }\n",
       "</style>\n",
       "<table border=\"1\" class=\"dataframe\">\n",
       "  <thead>\n",
       "    <tr style=\"text-align: right;\">\n",
       "      <th></th>\n",
       "      <th>chapter_title</th>\n",
       "      <th>book_title</th>\n",
       "      <th>cumulative_chapter_number</th>\n",
       "    </tr>\n",
       "  </thead>\n",
       "  <tbody>\n",
       "    <tr>\n",
       "      <th>0</th>\n",
       "      <td>Dragonmount</td>\n",
       "      <td>The Eye of the world</td>\n",
       "      <td>1</td>\n",
       "    </tr>\n",
       "    <tr>\n",
       "      <th>1</th>\n",
       "      <td>An Empty Road</td>\n",
       "      <td>The Eye of the world</td>\n",
       "      <td>2</td>\n",
       "    </tr>\n",
       "    <tr>\n",
       "      <th>2</th>\n",
       "      <td>Strangers</td>\n",
       "      <td>The Eye of the world</td>\n",
       "      <td>3</td>\n",
       "    </tr>\n",
       "    <tr>\n",
       "      <th>3</th>\n",
       "      <td>The Peddler</td>\n",
       "      <td>The Eye of the world</td>\n",
       "      <td>4</td>\n",
       "    </tr>\n",
       "    <tr>\n",
       "      <th>4</th>\n",
       "      <td>The Gleeman</td>\n",
       "      <td>The Eye of the world</td>\n",
       "      <td>5</td>\n",
       "    </tr>\n",
       "    <tr>\n",
       "      <th>...</th>\n",
       "      <td>...</td>\n",
       "      <td>...</td>\n",
       "      <td>...</td>\n",
       "    </tr>\n",
       "    <tr>\n",
       "      <th>672</th>\n",
       "      <td>To Awaken</td>\n",
       "      <td>A Memory of Light</td>\n",
       "      <td>673</td>\n",
       "    </tr>\n",
       "    <tr>\n",
       "      <th>673</th>\n",
       "      <td>Watching the Flow Writhe</td>\n",
       "      <td>A Memory of Light</td>\n",
       "      <td>674</td>\n",
       "    </tr>\n",
       "    <tr>\n",
       "      <th>674</th>\n",
       "      <td>A Brilliant Lance</td>\n",
       "      <td>A Memory of Light</td>\n",
       "      <td>675</td>\n",
       "    </tr>\n",
       "    <tr>\n",
       "      <th>675</th>\n",
       "      <td>Light and Shadow</td>\n",
       "      <td>A Memory of Light</td>\n",
       "      <td>676</td>\n",
       "    </tr>\n",
       "    <tr>\n",
       "      <th>676</th>\n",
       "      <td>To See the Answer</td>\n",
       "      <td>A Memory of Light</td>\n",
       "      <td>677</td>\n",
       "    </tr>\n",
       "  </tbody>\n",
       "</table>\n",
       "<p>677 rows × 3 columns</p>\n",
       "</div>"
      ],
      "text/plain": [
       "                 chapter_title            book_title  \\\n",
       "0                  Dragonmount  The Eye of the world   \n",
       "1                An Empty Road  The Eye of the world   \n",
       "2                    Strangers  The Eye of the world   \n",
       "3                  The Peddler  The Eye of the world   \n",
       "4                  The Gleeman  The Eye of the world   \n",
       "..                         ...                   ...   \n",
       "672                  To Awaken     A Memory of Light   \n",
       "673   Watching the Flow Writhe     A Memory of Light   \n",
       "674          A Brilliant Lance     A Memory of Light   \n",
       "675           Light and Shadow     A Memory of Light   \n",
       "676          To See the Answer     A Memory of Light   \n",
       "\n",
       "     cumulative_chapter_number  \n",
       "0                            1  \n",
       "1                            2  \n",
       "2                            3  \n",
       "3                            4  \n",
       "4                            5  \n",
       "..                         ...  \n",
       "672                        673  \n",
       "673                        674  \n",
       "674                        675  \n",
       "675                        676  \n",
       "676                        677  \n",
       "\n",
       "[677 rows x 3 columns]"
      ]
     },
     "execution_count": 298,
     "metadata": {},
     "output_type": "execute_result"
    }
   ],
   "source": [
    "chapter_names['chapter_title'] = chapter_names['chapter_title'].apply(lambda s: clean_titles(s))\n",
    "chapter_names['cumulative_chapter_number'] = chapter_names.index +1 \n",
    "chapter_names"
   ]
  },
  {
   "cell_type": "code",
   "execution_count": 299,
   "id": "trained-journey",
   "metadata": {},
   "outputs": [
    {
     "data": {
      "text/html": [
       "<div>\n",
       "<style scoped>\n",
       "    .dataframe tbody tr th:only-of-type {\n",
       "        vertical-align: middle;\n",
       "    }\n",
       "\n",
       "    .dataframe tbody tr th {\n",
       "        vertical-align: top;\n",
       "    }\n",
       "\n",
       "    .dataframe thead th {\n",
       "        text-align: right;\n",
       "    }\n",
       "</style>\n",
       "<table border=\"1\" class=\"dataframe\">\n",
       "  <thead>\n",
       "    <tr style=\"text-align: right;\">\n",
       "      <th></th>\n",
       "      <th>chapter_title</th>\n",
       "      <th>book_title</th>\n",
       "      <th>cumulative_chapter_number</th>\n",
       "      <th>text</th>\n",
       "    </tr>\n",
       "  </thead>\n",
       "  <tbody>\n",
       "    <tr>\n",
       "      <th>0</th>\n",
       "      <td>Dragonmount</td>\n",
       "      <td>The Eye of the world</td>\n",
       "      <td>1</td>\n",
       "      <td>the palace still shook occasionally as the ear...</td>\n",
       "    </tr>\n",
       "    <tr>\n",
       "      <th>1</th>\n",
       "      <td>An Empty Road</td>\n",
       "      <td>The Eye of the world</td>\n",
       "      <td>2</td>\n",
       "      <td>the wheel of time turns and ages come and pass...</td>\n",
       "    </tr>\n",
       "    <tr>\n",
       "      <th>2</th>\n",
       "      <td>Strangers</td>\n",
       "      <td>The Eye of the world</td>\n",
       "      <td>3</td>\n",
       "      <td>when rand and mat carried the first barrels th...</td>\n",
       "    </tr>\n",
       "    <tr>\n",
       "      <th>3</th>\n",
       "      <td>The Peddler</td>\n",
       "      <td>The Eye of the world</td>\n",
       "      <td>4</td>\n",
       "      <td>clusters of pots clattered and banged as s wag...</td>\n",
       "    </tr>\n",
       "    <tr>\n",
       "      <th>4</th>\n",
       "      <td>The Gleeman</td>\n",
       "      <td>The Eye of the world</td>\n",
       "      <td>5</td>\n",
       "      <td>the door of the inn banged shut behind the whi...</td>\n",
       "    </tr>\n",
       "    <tr>\n",
       "      <th>...</th>\n",
       "      <td>...</td>\n",
       "      <td>...</td>\n",
       "      <td>...</td>\n",
       "      <td>...</td>\n",
       "    </tr>\n",
       "    <tr>\n",
       "      <th>672</th>\n",
       "      <td>To Awaken</td>\n",
       "      <td>A Memory of Light</td>\n",
       "      <td>673</td>\n",
       "      <td>rand broke free from the darkness and entered ...</td>\n",
       "    </tr>\n",
       "    <tr>\n",
       "      <th>673</th>\n",
       "      <td>Watching the Flow Writhe</td>\n",
       "      <td>A Memory of Light</td>\n",
       "      <td>674</td>\n",
       "      <td>she fought it off but barely the forsaken lean...</td>\n",
       "    </tr>\n",
       "    <tr>\n",
       "      <th>674</th>\n",
       "      <td>A Brilliant Lance</td>\n",
       "      <td>A Memory of Light</td>\n",
       "      <td>675</td>\n",
       "      <td>so many dead hundreds of thousands of men and ...</td>\n",
       "    </tr>\n",
       "    <tr>\n",
       "      <th>675</th>\n",
       "      <td>Light and Shadow</td>\n",
       "      <td>A Memory of Light</td>\n",
       "      <td>676</td>\n",
       "      <td>beneath that was only emptiness in the wolf dr...</td>\n",
       "    </tr>\n",
       "    <tr>\n",
       "      <th>676</th>\n",
       "      <td>To See the Answer</td>\n",
       "      <td>A Memory of Light</td>\n",
       "      <td>677</td>\n",
       "      <td>rand slipped on his blood he couldnt see he ca...</td>\n",
       "    </tr>\n",
       "  </tbody>\n",
       "</table>\n",
       "<p>677 rows × 4 columns</p>\n",
       "</div>"
      ],
      "text/plain": [
       "                 chapter_title            book_title  \\\n",
       "0                  Dragonmount  The Eye of the world   \n",
       "1                An Empty Road  The Eye of the world   \n",
       "2                    Strangers  The Eye of the world   \n",
       "3                  The Peddler  The Eye of the world   \n",
       "4                  The Gleeman  The Eye of the world   \n",
       "..                         ...                   ...   \n",
       "672                  To Awaken     A Memory of Light   \n",
       "673   Watching the Flow Writhe     A Memory of Light   \n",
       "674          A Brilliant Lance     A Memory of Light   \n",
       "675           Light and Shadow     A Memory of Light   \n",
       "676          To See the Answer     A Memory of Light   \n",
       "\n",
       "     cumulative_chapter_number  \\\n",
       "0                            1   \n",
       "1                            2   \n",
       "2                            3   \n",
       "3                            4   \n",
       "4                            5   \n",
       "..                         ...   \n",
       "672                        673   \n",
       "673                        674   \n",
       "674                        675   \n",
       "675                        676   \n",
       "676                        677   \n",
       "\n",
       "                                                  text  \n",
       "0    the palace still shook occasionally as the ear...  \n",
       "1    the wheel of time turns and ages come and pass...  \n",
       "2    when rand and mat carried the first barrels th...  \n",
       "3    clusters of pots clattered and banged as s wag...  \n",
       "4    the door of the inn banged shut behind the whi...  \n",
       "..                                                 ...  \n",
       "672  rand broke free from the darkness and entered ...  \n",
       "673  she fought it off but barely the forsaken lean...  \n",
       "674  so many dead hundreds of thousands of men and ...  \n",
       "675  beneath that was only emptiness in the wolf dr...  \n",
       "676  rand slipped on his blood he couldnt see he ca...  \n",
       "\n",
       "[677 rows x 4 columns]"
      ]
     },
     "execution_count": 299,
     "metadata": {},
     "output_type": "execute_result"
    }
   ],
   "source": [
    "allbooks = pd.concat([chapter_names, text_df], axis=1)\n",
    "allbooks['text'] = allbooks.apply(lambda x: clean_chapter(x['text'], x['chapter_title']), axis=1)\n",
    "allbooks"
   ]
  },
  {
   "cell_type": "code",
   "execution_count": 300,
   "id": "assisted-episode",
   "metadata": {},
   "outputs": [],
   "source": [
    "allbooks.to_pickle('data/allbooks.pkl')"
   ]
  },
  {
   "cell_type": "markdown",
   "id": "exposed-absorption",
   "metadata": {},
   "source": [
    "Singularized"
   ]
  },
  {
   "cell_type": "code",
   "execution_count": 301,
   "id": "departmental-consent",
   "metadata": {},
   "outputs": [
    {
     "data": {
      "application/vnd.jupyter.widget-view+json": {
       "model_id": "52a9a474c49b4ec5b59825c457a3a48d",
       "version_major": 2,
       "version_minor": 0
      },
      "text/plain": [
       "  0%|          | 0/677 [00:00<?, ?it/s]"
      ]
     },
     "metadata": {},
     "output_type": "display_data"
    }
   ],
   "source": [
    "allbooks_singularized = allbooks.copy()\n",
    "allbooks_singularized['text'] = allbooks_singularized.progress_apply(lambda x: singularize_chapter(x['text']), axis=1)"
   ]
  },
  {
   "cell_type": "code",
   "execution_count": 302,
   "id": "adjacent-calvin",
   "metadata": {},
   "outputs": [],
   "source": [
    "allbooks_singularized.to_pickle('data/allbooks_singularized.pkl')"
   ]
  },
  {
   "cell_type": "markdown",
   "id": "checked-satisfaction",
   "metadata": {},
   "source": [
    "No Stop words"
   ]
  },
  {
   "cell_type": "code",
   "execution_count": 303,
   "id": "personal-capability",
   "metadata": {},
   "outputs": [
    {
     "data": {
      "application/vnd.jupyter.widget-view+json": {
       "model_id": "8b05ac956d414b63bd67302b50d5c3e7",
       "version_major": 2,
       "version_minor": 0
      },
      "text/plain": [
       "  0%|          | 0/677 [00:00<?, ?it/s]"
      ]
     },
     "metadata": {},
     "output_type": "display_data"
    }
   ],
   "source": [
    "allbooks_nosw = allbooks.copy()\n",
    "allbooks_nosw['text'] = allbooks_nosw.progress_apply(lambda x: remove_stopwords(x['text']), axis=1)"
   ]
  },
  {
   "cell_type": "code",
   "execution_count": 304,
   "id": "exclusive-dispatch",
   "metadata": {},
   "outputs": [],
   "source": [
    "allbooks_nosw.to_pickle('data/allbooks_nosw.pkl')"
   ]
  },
  {
   "cell_type": "markdown",
   "id": "rising-scott",
   "metadata": {},
   "source": [
    "No stop words, signularized"
   ]
  },
  {
   "cell_type": "code",
   "execution_count": 305,
   "id": "geological-islam",
   "metadata": {},
   "outputs": [
    {
     "data": {
      "application/vnd.jupyter.widget-view+json": {
       "model_id": "b96c0fd0595c491692e6cef60a60bfe8",
       "version_major": 2,
       "version_minor": 0
      },
      "text/plain": [
       "  0%|          | 0/677 [00:00<?, ?it/s]"
      ]
     },
     "metadata": {},
     "output_type": "display_data"
    }
   ],
   "source": [
    "allbooks_sing_nosw = allbooks_nosw.copy()\n",
    "allbooks_sing_nosw['text'] = allbooks_sing_nosw.progress_apply(lambda x: singularize_chapter(x['text']), axis=1)"
   ]
  },
  {
   "cell_type": "code",
   "execution_count": 308,
   "id": "interracial-stream",
   "metadata": {},
   "outputs": [],
   "source": [
    "allbooks_sing_nosw.to_pickle('data/allbooks_sing_nosw.pkl')"
   ]
  },
  {
   "cell_type": "markdown",
   "id": "another-status",
   "metadata": {},
   "source": [
    "## Extracting list of characters for network graphing"
   ]
  },
  {
   "cell_type": "code",
   "execution_count": 264,
   "id": "twenty-invalid",
   "metadata": {},
   "outputs": [],
   "source": [
    "characters = pd.read_html('https://wot.fandom.com/wiki/Statistical_analysis', match='917,726')[0]"
   ]
  },
  {
   "cell_type": "code",
   "execution_count": 265,
   "id": "heated-rabbit",
   "metadata": {},
   "outputs": [],
   "source": [
    "characters = characters.sort_values('Word Count', ascending = False)"
   ]
  },
  {
   "cell_type": "code",
   "execution_count": 266,
   "id": "floating-retirement",
   "metadata": {},
   "outputs": [
    {
     "data": {
      "text/html": [
       "<div>\n",
       "<style scoped>\n",
       "    .dataframe tbody tr th:only-of-type {\n",
       "        vertical-align: middle;\n",
       "    }\n",
       "\n",
       "    .dataframe tbody tr th {\n",
       "        vertical-align: top;\n",
       "    }\n",
       "\n",
       "    .dataframe thead th {\n",
       "        text-align: right;\n",
       "    }\n",
       "</style>\n",
       "<table border=\"1\" class=\"dataframe\">\n",
       "  <thead>\n",
       "    <tr style=\"text-align: right;\">\n",
       "      <th></th>\n",
       "      <th>Character</th>\n",
       "      <th># of POVs</th>\n",
       "      <th>% of Total POVs (1,379)</th>\n",
       "      <th>Word Count</th>\n",
       "      <th>% of Word Count (4,373,157)</th>\n",
       "      <th>Average Word Count per POV</th>\n",
       "    </tr>\n",
       "  </thead>\n",
       "  <tbody>\n",
       "    <tr>\n",
       "      <th>6</th>\n",
       "      <td>Rand al'Thor</td>\n",
       "      <td>236</td>\n",
       "      <td>17.1139%</td>\n",
       "      <td>917726</td>\n",
       "      <td>20.9854%</td>\n",
       "      <td>3888.67</td>\n",
       "    </tr>\n",
       "    <tr>\n",
       "      <th>7</th>\n",
       "      <td>Perrin Aybara</td>\n",
       "      <td>154</td>\n",
       "      <td>11.1675%</td>\n",
       "      <td>540762</td>\n",
       "      <td>12.3655%</td>\n",
       "      <td>3511.44</td>\n",
       "    </tr>\n",
       "    <tr>\n",
       "      <th>5</th>\n",
       "      <td>Egwene al'Vere</td>\n",
       "      <td>130</td>\n",
       "      <td>9.4271%</td>\n",
       "      <td>529812</td>\n",
       "      <td>12.1151%</td>\n",
       "      <td>4075.48</td>\n",
       "    </tr>\n",
       "    <tr>\n",
       "      <th>19</th>\n",
       "      <td>Matrim Cauthon</td>\n",
       "      <td>116</td>\n",
       "      <td>8.4119%</td>\n",
       "      <td>486811</td>\n",
       "      <td>11.1318%</td>\n",
       "      <td>4196.65</td>\n",
       "    </tr>\n",
       "    <tr>\n",
       "      <th>24</th>\n",
       "      <td>Elayne Trakand</td>\n",
       "      <td>83</td>\n",
       "      <td>6.0189%</td>\n",
       "      <td>355856</td>\n",
       "      <td>8.1373%</td>\n",
       "      <td>4287.42</td>\n",
       "    </tr>\n",
       "    <tr>\n",
       "      <th>...</th>\n",
       "      <td>...</td>\n",
       "      <td>...</td>\n",
       "      <td>...</td>\n",
       "      <td>...</td>\n",
       "      <td>...</td>\n",
       "      <td>...</td>\n",
       "    </tr>\n",
       "    <tr>\n",
       "      <th>86</th>\n",
       "      <td>Abaldar Yulan</td>\n",
       "      <td>1</td>\n",
       "      <td>0.0725%</td>\n",
       "      <td>117</td>\n",
       "      <td>0.0027%</td>\n",
       "      <td>117.00</td>\n",
       "    </tr>\n",
       "    <tr>\n",
       "      <th>57</th>\n",
       "      <td>Luan Norwelyn</td>\n",
       "      <td>1</td>\n",
       "      <td>0.0725%</td>\n",
       "      <td>109</td>\n",
       "      <td>0.0025%</td>\n",
       "      <td>109.00</td>\n",
       "    </tr>\n",
       "    <tr>\n",
       "      <th>56</th>\n",
       "      <td>Dyelin Taravin</td>\n",
       "      <td>1</td>\n",
       "      <td>0.0725%</td>\n",
       "      <td>102</td>\n",
       "      <td>0.0023%</td>\n",
       "      <td>102.00</td>\n",
       "    </tr>\n",
       "    <tr>\n",
       "      <th>58</th>\n",
       "      <td>Ellorien Traemane</td>\n",
       "      <td>1</td>\n",
       "      <td>0.0725%</td>\n",
       "      <td>83</td>\n",
       "      <td>0.0019%</td>\n",
       "      <td>83.00</td>\n",
       "    </tr>\n",
       "    <tr>\n",
       "      <th>143</th>\n",
       "      <td>Shendla</td>\n",
       "      <td>1</td>\n",
       "      <td>0.0725%</td>\n",
       "      <td>65</td>\n",
       "      <td>0.0015%</td>\n",
       "      <td>65.00</td>\n",
       "    </tr>\n",
       "  </tbody>\n",
       "</table>\n",
       "<p>147 rows × 6 columns</p>\n",
       "</div>"
      ],
      "text/plain": [
       "             Character  # of POVs % of Total POVs (1,379)  Word Count  \\\n",
       "6         Rand al'Thor        236                17.1139%      917726   \n",
       "7        Perrin Aybara        154                11.1675%      540762   \n",
       "5       Egwene al'Vere        130                 9.4271%      529812   \n",
       "19      Matrim Cauthon        116                 8.4119%      486811   \n",
       "24      Elayne Trakand         83                 6.0189%      355856   \n",
       "..                 ...        ...                     ...         ...   \n",
       "86       Abaldar Yulan          1                 0.0725%         117   \n",
       "57       Luan Norwelyn          1                 0.0725%         109   \n",
       "56      Dyelin Taravin          1                 0.0725%         102   \n",
       "58   Ellorien Traemane          1                 0.0725%          83   \n",
       "143            Shendla          1                 0.0725%          65   \n",
       "\n",
       "    % of Word Count (4,373,157)  Average Word Count per POV  \n",
       "6                      20.9854%                     3888.67  \n",
       "7                      12.3655%                     3511.44  \n",
       "5                      12.1151%                     4075.48  \n",
       "19                     11.1318%                     4196.65  \n",
       "24                      8.1373%                     4287.42  \n",
       "..                          ...                         ...  \n",
       "86                      0.0027%                      117.00  \n",
       "57                      0.0025%                      109.00  \n",
       "56                      0.0023%                      102.00  \n",
       "58                      0.0019%                       83.00  \n",
       "143                     0.0015%                       65.00  \n",
       "\n",
       "[147 rows x 6 columns]"
      ]
     },
     "execution_count": 266,
     "metadata": {},
     "output_type": "execute_result"
    }
   ],
   "source": [
    "characters"
   ]
  },
  {
   "cell_type": "code",
   "execution_count": 284,
   "id": "banner-rapid",
   "metadata": {
    "scrolled": false
   },
   "outputs": [],
   "source": [
    "char_list = list(characters['Character'])"
   ]
  },
  {
   "cell_type": "code",
   "execution_count": 285,
   "id": "sorted-metabolism",
   "metadata": {},
   "outputs": [],
   "source": [
    "char_list = [char.split()[0].lower().replace(\"\\'\",'') for char in char_list]"
   ]
  },
  {
   "cell_type": "code",
   "execution_count": 287,
   "id": "proprietary-quarter",
   "metadata": {
    "scrolled": false
   },
   "outputs": [],
   "source": [
    "for char in ['matrim', 'galadedrid', 'thomdril', 'lews', 'narrator', 'mazrim', 'quote', 'geofram', 'davram',\n",
    "            'rodel', 'seanchan']:\n",
    "    char_list.remove(char)"
   ]
  },
  {
   "cell_type": "code",
   "execution_count": 288,
   "id": "adjacent-celebration",
   "metadata": {},
   "outputs": [],
   "source": [
    "for char in ['mat', 'galad', 'thom', 'taim', 'bornhald', 'bashere', 'ituralde']:\n",
    "    char_list.append(char)"
   ]
  },
  {
   "cell_type": "code",
   "execution_count": 289,
   "id": "boolean-function",
   "metadata": {
    "scrolled": true
   },
   "outputs": [],
   "source": [
    "char_list=sorted(char_list)"
   ]
  },
  {
   "cell_type": "code",
   "execution_count": 290,
   "id": "boolean-torture",
   "metadata": {},
   "outputs": [],
   "source": [
    "with open('char_list.pkl', 'wb') as f:\n",
    "    pickle.dump(char_list, f)"
   ]
  }
 ],
 "metadata": {
  "kernelspec": {
   "display_name": "Python [conda env:metis] *",
   "language": "python",
   "name": "conda-env-metis-py"
  },
  "language_info": {
   "codemirror_mode": {
    "name": "ipython",
    "version": 3
   },
   "file_extension": ".py",
   "mimetype": "text/x-python",
   "name": "python",
   "nbconvert_exporter": "python",
   "pygments_lexer": "ipython3",
   "version": "3.8.6"
  },
  "toc": {
   "base_numbering": 1,
   "nav_menu": {},
   "number_sections": true,
   "sideBar": true,
   "skip_h1_title": false,
   "title_cell": "Table of Contents",
   "title_sidebar": "Contents",
   "toc_cell": false,
   "toc_position": {},
   "toc_section_display": true,
   "toc_window_display": false
  },
  "varInspector": {
   "cols": {
    "lenName": 16,
    "lenType": 16,
    "lenVar": 40
   },
   "kernels_config": {
    "python": {
     "delete_cmd_postfix": "",
     "delete_cmd_prefix": "del ",
     "library": "var_list.py",
     "varRefreshCmd": "print(var_dic_list())"
    },
    "r": {
     "delete_cmd_postfix": ") ",
     "delete_cmd_prefix": "rm(",
     "library": "var_list.r",
     "varRefreshCmd": "cat(var_dic_list()) "
    }
   },
   "types_to_exclude": [
    "module",
    "function",
    "builtin_function_or_method",
    "instance",
    "_Feature"
   ],
   "window_display": false
  }
 },
 "nbformat": 4,
 "nbformat_minor": 5
}
