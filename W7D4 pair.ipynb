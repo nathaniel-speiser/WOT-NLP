{
 "cells": [
  {
   "cell_type": "code",
   "execution_count": 5,
   "id": "broad-proof",
   "metadata": {},
   "outputs": [],
   "source": [
    "import numpy as np\n",
    "from numpy.random import choice"
   ]
  },
  {
   "cell_type": "code",
   "execution_count": 52,
   "id": "matched-conversation",
   "metadata": {},
   "outputs": [],
   "source": [
    "docs = [[0.98, 0.01, 0.01],\n",
    "        [0.01, 0.98, 0.01],\n",
    "        [0.01, 0.01, 0.98]]\n",
    "\n",
    "topics = [[ 0.4,      0.4,   0.01,        0.01,    0.01,       0.01,  0.1,     0.04,   0.01,        0.01],\n",
    "          [0.01,     0.01,    0.4,         0.4,    0.01,       0.01,  0.1,     0.04,   0.01,        0.01],\n",
    "          [0.02,     0.02,   0.01,        0.01,     0.4,        0.4, 0.02,      0.1,   0.01,        0.01]]\n",
    "\n",
    "words =  ['cat', 'kitten',  'dog',     'puppy',  'deep', 'learning','fur',  'image',  'GPU', 'asparagus']"
   ]
  },
  {
   "cell_type": "code",
   "execution_count": 73,
   "id": "greater-recruitment",
   "metadata": {},
   "outputs": [],
   "source": [
    "def make_doc(topic_probs, n_words):\n",
    "    sentence = ''\n",
    "    for _ in range(n_words):\n",
    "        topic_index = choice(len(topic_probs) ,p=topic_probs)\n",
    "        topic = topics[topic_index]\n",
    "        word = choice(words, p = topic)\n",
    "        \n",
    "        sentence += word + ' '\n",
    "    return sentence\n",
    "\n",
    "\n",
    "def make_doc2(n_words):\n",
    "    sentence = ''\n",
    "    topic_probs = np.random.dirichlet([1,1,1])\n",
    "    print(topic_probs)\n",
    "    for _ in range(n_words):\n",
    "        topic_index = choice(len(topic_probs) ,p=topic_probs)\n",
    "        topic = topics[topic_index]\n",
    "        word = choice(words, p = topic)\n",
    "        \n",
    "        sentence += word + ' '\n",
    "    return sentence"
   ]
  },
  {
   "cell_type": "code",
   "execution_count": null,
   "id": "external-brook",
   "metadata": {},
   "outputs": [],
   "source": []
  },
  {
   "cell_type": "code",
   "execution_count": 57,
   "id": "written-carroll",
   "metadata": {},
   "outputs": [
    {
     "name": "stdout",
     "output_type": "stream",
     "text": [
      "kitten kitten cat kitten cat fur fur cat fur cat \n",
      "puppy dog puppy dog dog dog puppy dog puppy dog \n",
      "learning deep deep learning deep learning learning deep deep deep \n"
     ]
    }
   ],
   "source": [
    "for doc in docs:\n",
    "    print(make_doc(topic_probs=doc, n_words=10))"
   ]
  },
  {
   "cell_type": "code",
   "execution_count": 76,
   "id": "substantial-tonight",
   "metadata": {},
   "outputs": [
    {
     "name": "stdout",
     "output_type": "stream",
     "text": [
      "[0.93084404 0.05846002 0.01069594]\n",
      "fur fur cat kitten kitten cat fur kitten dog asparagus \n",
      "[0.65109158 0.23891534 0.10999307]\n",
      "kitten fur puppy fur fur puppy cat puppy asparagus kitten \n",
      "[0.3669245  0.40919082 0.22388468]\n",
      "fur kitten cat fur kitten cat GPU cat learning learning \n"
     ]
    }
   ],
   "source": [
    "for doc in docs:\n",
    "    print(make_doc2(n_words=10))"
   ]
  },
  {
   "cell_type": "code",
   "execution_count": null,
   "id": "offensive-cigarette",
   "metadata": {},
   "outputs": [],
   "source": []
  }
 ],
 "metadata": {
  "kernelspec": {
   "display_name": "Python [conda env:metis] *",
   "language": "python",
   "name": "conda-env-metis-py"
  },
  "language_info": {
   "codemirror_mode": {
    "name": "ipython",
    "version": 3
   },
   "file_extension": ".py",
   "mimetype": "text/x-python",
   "name": "python",
   "nbconvert_exporter": "python",
   "pygments_lexer": "ipython3",
   "version": "3.8.6"
  },
  "toc": {
   "base_numbering": 1,
   "nav_menu": {},
   "number_sections": true,
   "sideBar": true,
   "skip_h1_title": false,
   "title_cell": "Table of Contents",
   "title_sidebar": "Contents",
   "toc_cell": false,
   "toc_position": {},
   "toc_section_display": true,
   "toc_window_display": false
  },
  "varInspector": {
   "cols": {
    "lenName": 16,
    "lenType": 16,
    "lenVar": 40
   },
   "kernels_config": {
    "python": {
     "delete_cmd_postfix": "",
     "delete_cmd_prefix": "del ",
     "library": "var_list.py",
     "varRefreshCmd": "print(var_dic_list())"
    },
    "r": {
     "delete_cmd_postfix": ") ",
     "delete_cmd_prefix": "rm(",
     "library": "var_list.r",
     "varRefreshCmd": "cat(var_dic_list()) "
    }
   },
   "types_to_exclude": [
    "module",
    "function",
    "builtin_function_or_method",
    "instance",
    "_Feature"
   ],
   "window_display": false
  }
 },
 "nbformat": 4,
 "nbformat_minor": 5
}
