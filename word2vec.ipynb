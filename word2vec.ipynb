{
 "cells": [
  {
   "cell_type": "code",
   "execution_count": 20,
   "id": "bound-baghdad",
   "metadata": {},
   "outputs": [],
   "source": [
    "import pandas as pd\n",
    "from gensim import models\n",
    "from gensim.models import phrases\n",
    "\n",
    "\n"
   ]
  },
  {
   "cell_type": "code",
   "execution_count": 21,
   "id": "choice-anchor",
   "metadata": {},
   "outputs": [],
   "source": [
    "#Import books\n",
    "all_books_nosw_singularized = pd.read_pickle('data/allbooks_sing_nosw.pkl')\n"
   ]
  },
  {
   "cell_type": "code",
   "execution_count": 104,
   "id": "round-sleeve",
   "metadata": {},
   "outputs": [],
   "source": [
    "#Get text in the form that gensim wantes\n",
    "chapters = list(all_books_nosw_singularized['text'])\n",
    "sentences = []\n",
    "for chapter in chapters:\n",
    "    sentences.append(chapter.split())\n"
   ]
  },
  {
   "cell_type": "code",
   "execution_count": 111,
   "id": "regulation-daisy",
   "metadata": {},
   "outputs": [],
   "source": [
    "#Build bigrams model\n",
    "#Sidenote I love this, it's so cool it can automatically find bigrams\n",
    "bigrams = phrases.Phrases(sentences)"
   ]
  },
  {
   "cell_type": "code",
   "execution_count": 120,
   "id": "fleet-telling",
   "metadata": {},
   "outputs": [],
   "source": [
    "#Build model\n",
    "model = models.Word2Vec(bigrams[sentences], iter=10)"
   ]
  },
  {
   "cell_type": "code",
   "execution_count": 163,
   "id": "hungarian-twenty",
   "metadata": {},
   "outputs": [],
   "source": [
    "model.save('saved_modesl/bigram_word2vec.model')"
   ]
  },
  {
   "cell_type": "code",
   "execution_count": 22,
   "id": "constitutional-operator",
   "metadata": {},
   "outputs": [],
   "source": [
    "model = models.Word2Vec.load('saved_models/bigram_word2vec.model')\n"
   ]
  },
  {
   "cell_type": "code",
   "execution_count": 5,
   "id": "sought-gilbert",
   "metadata": {},
   "outputs": [],
   "source": [
    "def analogy(model, word1, word2, word3, topn=10):\n",
    "    \"\"\"\n",
    "    Word1 is to word2 as word3 is to ____\n",
    "    \n",
    "    \"\"\"\n",
    "    return model.wv.most_similar(positive=[word3, word2], negative=[word1], topn=topn)"
   ]
  },
  {
   "cell_type": "markdown",
   "id": "registered-singing",
   "metadata": {},
   "source": [
    "I'll come back and make a lightweight web app for this eventually, but for now it's fun to just play around with analogies and similarities. I think my favorite is putting bela into most_similar and getting all the other animals. back"
   ]
  },
  {
   "cell_type": "code",
   "execution_count": 19,
   "id": "controlled-damage",
   "metadata": {},
   "outputs": [
    {
     "data": {
      "text/plain": [
       "[('egeanin', 0.7375583648681641),\n",
       " ('juilin', 0.6764757633209229),\n",
       " ('thom_juilin', 0.6707871556282043),\n",
       " ('lara', 0.6346412897109985),\n",
       " ('mistres_anan', 0.6232042908668518),\n",
       " ('areina', 0.6032098531723022),\n",
       " ('leilwin', 0.598152220249176),\n",
       " ('melfane', 0.5954345464706421),\n",
       " ('rendra', 0.5896434783935547),\n",
       " ('sullenly', 0.579151451587677)]"
      ]
     },
     "execution_count": 19,
     "metadata": {},
     "output_type": "execute_result"
    }
   ],
   "source": [
    "analogy(model, 'rand', 'min', 'domon')"
   ]
  },
  {
   "cell_type": "code",
   "execution_count": 23,
   "id": "narrow-compatibility",
   "metadata": {},
   "outputs": [
    {
     "data": {
      "text/plain": [
       "[('mare', 0.9031935930252075),\n",
       " ('mandarb', 0.8720221519470215),\n",
       " ('aldieb', 0.8577859401702881),\n",
       " ('stallion', 0.8544017672538757),\n",
       " ('jeadeen', 0.8535523414611816),\n",
       " ('shaggy_mare', 0.8467175960540771),\n",
       " ('gelding', 0.845755934715271),\n",
       " ('saddle', 0.8434848785400391),\n",
       " ('stepper', 0.8386892080307007),\n",
       " ('pips', 0.8254581689834595),\n",
       " ('dun', 0.8240572214126587),\n",
       " ('daishar', 0.8150646686553955),\n",
       " ('rein', 0.8121486902236938),\n",
       " ('white_mare', 0.7858864068984985),\n",
       " ('stayer', 0.7850121855735779),\n",
       " ('gallop', 0.7822350263595581),\n",
       " ('dug_heel', 0.7819079160690308),\n",
       " ('bay', 0.7733728289604187),\n",
       " ('selfar', 0.771024227142334),\n",
       " ('mount', 0.7653979063034058),\n",
       " ('trot', 0.763600766658783),\n",
       " ('heeled', 0.7635818123817444),\n",
       " ('booted', 0.7614134550094604),\n",
       " ('mandarb_saddle', 0.7600829601287842),\n",
       " ('dismounting', 0.7581081986427307)]"
      ]
     },
     "execution_count": 23,
     "metadata": {},
     "output_type": "execute_result"
    }
   ],
   "source": [
    "model.wv.most_similar('bela', topn= 25)"
   ]
  },
  {
   "cell_type": "code",
   "execution_count": 11,
   "id": "incredible-acrobat",
   "metadata": {},
   "outputs": [
    {
     "data": {
      "text/plain": [
       "[('verin', 0.6650002598762512),\n",
       " ('alanna', 0.618614673614502),\n",
       " ('lan', 0.605637788772583),\n",
       " ('thirteen_aes', 0.5778695344924927),\n",
       " ('male_aes', 0.5731239318847656),\n",
       " ('cadsuane', 0.5618353486061096),\n",
       " ('wheel_will', 0.5069185495376587),\n",
       " ('merana', 0.48766764998435974),\n",
       " ('rand', 0.48694154620170593),\n",
       " ('selene', 0.4797132611274719),\n",
       " ('wheel_weaf', 0.4766269326210022),\n",
       " ('myrelle', 0.4598006308078766),\n",
       " ('warder', 0.4511159360408783),\n",
       " ('anaiya', 0.4499765634536743),\n",
       " ('nothing_else', 0.4431731700897217),\n",
       " ('liandrin', 0.43451744318008423),\n",
       " ('gitara', 0.4337482750415802),\n",
       " ('sedai', 0.4268982410430908),\n",
       " ('zarine', 0.4266795516014099),\n",
       " ('merise', 0.41734856367111206),\n",
       " ('nisao', 0.4159044921398163),\n",
       " ('agelmar', 0.4157572388648987),\n",
       " ('shalon', 0.41263043880462646),\n",
       " ('bera', 0.40897294878959656),\n",
       " ('wonderingly', 0.4070909023284912)]"
      ]
     },
     "execution_count": 11,
     "metadata": {},
     "output_type": "execute_result"
    }
   ],
   "source": [
    "model.wv.most_similar('moiraine',topn=25)"
   ]
  },
  {
   "cell_type": "code",
   "execution_count": null,
   "id": "demonstrated-crisis",
   "metadata": {},
   "outputs": [],
   "source": []
  }
 ],
 "metadata": {
  "kernelspec": {
   "display_name": "Python [conda env:metis] *",
   "language": "python",
   "name": "conda-env-metis-py"
  },
  "language_info": {
   "codemirror_mode": {
    "name": "ipython",
    "version": 3
   },
   "file_extension": ".py",
   "mimetype": "text/x-python",
   "name": "python",
   "nbconvert_exporter": "python",
   "pygments_lexer": "ipython3",
   "version": "3.8.6"
  },
  "toc": {
   "base_numbering": 1,
   "nav_menu": {},
   "number_sections": true,
   "sideBar": true,
   "skip_h1_title": false,
   "title_cell": "Table of Contents",
   "title_sidebar": "Contents",
   "toc_cell": false,
   "toc_position": {},
   "toc_section_display": true,
   "toc_window_display": false
  },
  "varInspector": {
   "cols": {
    "lenName": 16,
    "lenType": 16,
    "lenVar": 40
   },
   "kernels_config": {
    "python": {
     "delete_cmd_postfix": "",
     "delete_cmd_prefix": "del ",
     "library": "var_list.py",
     "varRefreshCmd": "print(var_dic_list())"
    },
    "r": {
     "delete_cmd_postfix": ") ",
     "delete_cmd_prefix": "rm(",
     "library": "var_list.r",
     "varRefreshCmd": "cat(var_dic_list()) "
    }
   },
   "types_to_exclude": [
    "module",
    "function",
    "builtin_function_or_method",
    "instance",
    "_Feature"
   ],
   "window_display": false
  }
 },
 "nbformat": 4,
 "nbformat_minor": 5
}
