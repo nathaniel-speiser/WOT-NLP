{
 "cells": [
  {
   "cell_type": "code",
   "execution_count": 1,
   "id": "bound-baghdad",
   "metadata": {},
   "outputs": [
    {
     "name": "stderr",
     "output_type": "stream",
     "text": [
      "<ipython-input-1-5b44a6f9478c>:23: TqdmDeprecationWarning: This function will be removed in tqdm==5.0.0\n",
      "Please use `tqdm.notebook.*` instead of `tqdm._tqdm_notebook.*`\n",
      "  from tqdm._tqdm_notebook import tqdm_notebook\n"
     ]
    }
   ],
   "source": [
    "import warnings\n",
    "warnings.simplefilter(action='ignore', category=FutureWarning)\n",
    "import pandas as pd\n",
    "\n",
    "\n",
    "from sklearn.feature_extraction.text import CountVectorizer, TfidfVectorizer\n",
    "from sklearn.decomposition import NMF, LatentDirichletAllocation, TruncatedSVD\n",
    "\n",
    "\n",
    "import matplotlib.pyplot as plt\n",
    "import seaborn as sns\n",
    "sns.set_theme()\n",
    "\n",
    "import nltk\n",
    "from nltk.tokenize import word_tokenize\n",
    "from nltk.probability import FreqDist\n",
    "from nltk.corpus import stopwords\n",
    "from nltk.stem.porter import PorterStemmer\n",
    "from gensim import corpora, models, similarities, matutils\n",
    "from textblob import TextBlob\n",
    "\n",
    "import string\n",
    "from tqdm._tqdm_notebook import tqdm_notebook\n",
    "tqdm_notebook.pandas()\n",
    "\n"
   ]
  },
  {
   "cell_type": "code",
   "execution_count": 2,
   "id": "choice-anchor",
   "metadata": {},
   "outputs": [],
   "source": [
    "all_books_nosw_singularized = pd.read_pickle('data/allbooks_sing_nosw.pkl')\n"
   ]
  },
  {
   "cell_type": "code",
   "execution_count": 3,
   "id": "fantastic-consciousness",
   "metadata": {},
   "outputs": [
    {
     "data": {
      "text/html": [
       "<div>\n",
       "<style scoped>\n",
       "    .dataframe tbody tr th:only-of-type {\n",
       "        vertical-align: middle;\n",
       "    }\n",
       "\n",
       "    .dataframe tbody tr th {\n",
       "        vertical-align: top;\n",
       "    }\n",
       "\n",
       "    .dataframe thead th {\n",
       "        text-align: right;\n",
       "    }\n",
       "</style>\n",
       "<table border=\"1\" class=\"dataframe\">\n",
       "  <thead>\n",
       "    <tr style=\"text-align: right;\">\n",
       "      <th></th>\n",
       "      <th>chapter_title</th>\n",
       "      <th>book_title</th>\n",
       "      <th>cumulative_chapter_number</th>\n",
       "      <th>text</th>\n",
       "    </tr>\n",
       "  </thead>\n",
       "  <tbody>\n",
       "    <tr>\n",
       "      <th>0</th>\n",
       "      <td>Dragonmount</td>\n",
       "      <td>The Eye of the world</td>\n",
       "      <td>1</td>\n",
       "      <td>palace still shook occasionally earth rumbled ...</td>\n",
       "    </tr>\n",
       "    <tr>\n",
       "      <th>1</th>\n",
       "      <td>An Empty Road</td>\n",
       "      <td>The Eye of the world</td>\n",
       "      <td>2</td>\n",
       "      <td>wheel time turn age come pas leaving memory be...</td>\n",
       "    </tr>\n",
       "    <tr>\n",
       "      <th>2</th>\n",
       "      <td>Strangers</td>\n",
       "      <td>The Eye of the world</td>\n",
       "      <td>3</td>\n",
       "      <td>rand mat carried first barrel common room mast...</td>\n",
       "    </tr>\n",
       "    <tr>\n",
       "      <th>3</th>\n",
       "      <td>The Peddler</td>\n",
       "      <td>The Eye of the world</td>\n",
       "      <td>4</td>\n",
       "      <td>cluster pot clattered banged wagon rumbled hea...</td>\n",
       "    </tr>\n",
       "    <tr>\n",
       "      <th>4</th>\n",
       "      <td>The Gleeman</td>\n",
       "      <td>The Eye of the world</td>\n",
       "      <td>5</td>\n",
       "      <td>door inn banged shut behind whitehaired spun a...</td>\n",
       "    </tr>\n",
       "    <tr>\n",
       "      <th>...</th>\n",
       "      <td>...</td>\n",
       "      <td>...</td>\n",
       "      <td>...</td>\n",
       "      <td>...</td>\n",
       "    </tr>\n",
       "    <tr>\n",
       "      <th>672</th>\n",
       "      <td>To Awaken</td>\n",
       "      <td>A Memory of Light</td>\n",
       "      <td>673</td>\n",
       "      <td>rand broke free darknes entered pattern fully ...</td>\n",
       "    </tr>\n",
       "    <tr>\n",
       "      <th>673</th>\n",
       "      <td>Watching the Flow Writhe</td>\n",
       "      <td>A Memory of Light</td>\n",
       "      <td>674</td>\n",
       "      <td>fought barely forsaken leaned rock ledge short...</td>\n",
       "    </tr>\n",
       "    <tr>\n",
       "      <th>674</th>\n",
       "      <td>A Brilliant Lance</td>\n",
       "      <td>A Memory of Light</td>\n",
       "      <td>675</td>\n",
       "      <td>many dead hundred thousand man trolloc lying p...</td>\n",
       "    </tr>\n",
       "    <tr>\n",
       "      <th>675</th>\n",
       "      <td>Light and Shadow</td>\n",
       "      <td>A Memory of Light</td>\n",
       "      <td>676</td>\n",
       "      <td>beneath emptines wolf dream consumed perrin co...</td>\n",
       "    </tr>\n",
       "    <tr>\n",
       "      <th>676</th>\n",
       "      <td>To See the Answer</td>\n",
       "      <td>A Memory of Light</td>\n",
       "      <td>677</td>\n",
       "      <td>rand slipped blood see carried something somet...</td>\n",
       "    </tr>\n",
       "  </tbody>\n",
       "</table>\n",
       "<p>677 rows × 4 columns</p>\n",
       "</div>"
      ],
      "text/plain": [
       "                 chapter_title            book_title  \\\n",
       "0                  Dragonmount  The Eye of the world   \n",
       "1                An Empty Road  The Eye of the world   \n",
       "2                    Strangers  The Eye of the world   \n",
       "3                  The Peddler  The Eye of the world   \n",
       "4                  The Gleeman  The Eye of the world   \n",
       "..                         ...                   ...   \n",
       "672                  To Awaken     A Memory of Light   \n",
       "673   Watching the Flow Writhe     A Memory of Light   \n",
       "674          A Brilliant Lance     A Memory of Light   \n",
       "675           Light and Shadow     A Memory of Light   \n",
       "676          To See the Answer     A Memory of Light   \n",
       "\n",
       "     cumulative_chapter_number  \\\n",
       "0                            1   \n",
       "1                            2   \n",
       "2                            3   \n",
       "3                            4   \n",
       "4                            5   \n",
       "..                         ...   \n",
       "672                        673   \n",
       "673                        674   \n",
       "674                        675   \n",
       "675                        676   \n",
       "676                        677   \n",
       "\n",
       "                                                  text  \n",
       "0    palace still shook occasionally earth rumbled ...  \n",
       "1    wheel time turn age come pas leaving memory be...  \n",
       "2    rand mat carried first barrel common room mast...  \n",
       "3    cluster pot clattered banged wagon rumbled hea...  \n",
       "4    door inn banged shut behind whitehaired spun a...  \n",
       "..                                                 ...  \n",
       "672  rand broke free darknes entered pattern fully ...  \n",
       "673  fought barely forsaken leaned rock ledge short...  \n",
       "674  many dead hundred thousand man trolloc lying p...  \n",
       "675  beneath emptines wolf dream consumed perrin co...  \n",
       "676  rand slipped blood see carried something somet...  \n",
       "\n",
       "[677 rows x 4 columns]"
      ]
     },
     "execution_count": 3,
     "metadata": {},
     "output_type": "execute_result"
    }
   ],
   "source": [
    "all_books_nosw_singularized"
   ]
  },
  {
   "cell_type": "code",
   "execution_count": 4,
   "id": "round-sleeve",
   "metadata": {},
   "outputs": [],
   "source": [
    "chapters = list(all_books_nosw_singularized['text'])\n",
    "sentences = []\n",
    "for chapter in chapters:\n",
    "    sentences.append(chapter.split())\n"
   ]
  },
  {
   "cell_type": "code",
   "execution_count": 5,
   "id": "fleet-telling",
   "metadata": {},
   "outputs": [],
   "source": [
    "model = models.Word2Vec(sentences=sentences)"
   ]
  },
  {
   "cell_type": "code",
   "execution_count": 6,
   "id": "sought-gilbert",
   "metadata": {},
   "outputs": [],
   "source": [
    "def analogy(model, word1, word2, word3):\n",
    "    \"\"\"\n",
    "    Word1 is to word2 as word3 is to ____\n",
    "    \n",
    "    \"\"\"\n",
    "    return model.wv.most_similar(positive=[word3, word2], negative=[word1])"
   ]
  },
  {
   "cell_type": "code",
   "execution_count": 26,
   "id": "controlled-damage",
   "metadata": {},
   "outputs": [
    {
     "data": {
      "text/plain": [
       "[('fade', 0.5733452439308167),\n",
       " ('darkhound', 0.5387892723083496),\n",
       " ('flee', 0.5324689149856567),\n",
       " ('outrun', 0.5302265286445618),\n",
       " ('tam', 0.5256463289260864),\n",
       " ('attacked', 0.5225629806518555),\n",
       " ('gotten', 0.5216847658157349),\n",
       " ('coming', 0.518187940120697),\n",
       " ('asleep', 0.5174843668937683),\n",
       " ('saved', 0.517096221446991)]"
      ]
     },
     "execution_count": 26,
     "metadata": {},
     "output_type": "execute_result"
    }
   ],
   "source": [
    "analogy(model, 'moridin', 'rahvin', 'rand')"
   ]
  },
  {
   "cell_type": "code",
   "execution_count": 18,
   "id": "narrow-compatibility",
   "metadata": {},
   "outputs": [
    {
     "data": {
      "text/plain": [
       "[('sedaibut', 0.8916758298873901),\n",
       " ('sedaiand', 0.8384775519371033),\n",
       " ('sedaishe', 0.7961291074752808),\n",
       " ('womanthe', 0.6952550411224365),\n",
       " ('humiliate', 0.5811957120895386),\n",
       " ('lightbut', 0.5115865468978882),\n",
       " ('wrongheaded', 0.4687182903289795),\n",
       " ('barashelle', 0.462006151676178),\n",
       " ('unfriendly', 0.4515841603279114),\n",
       " ('believable', 0.44836363196372986)]"
      ]
     },
     "execution_count": 18,
     "metadata": {},
     "output_type": "execute_result"
    }
   ],
   "source": [
    "model.wv.most_similar('sedai')"
   ]
  },
  {
   "cell_type": "code",
   "execution_count": null,
   "id": "incredible-acrobat",
   "metadata": {},
   "outputs": [],
   "source": []
  }
 ],
 "metadata": {
  "kernelspec": {
   "display_name": "Python [conda env:metis] *",
   "language": "python",
   "name": "conda-env-metis-py"
  },
  "language_info": {
   "codemirror_mode": {
    "name": "ipython",
    "version": 3
   },
   "file_extension": ".py",
   "mimetype": "text/x-python",
   "name": "python",
   "nbconvert_exporter": "python",
   "pygments_lexer": "ipython3",
   "version": "3.8.6"
  },
  "toc": {
   "base_numbering": 1,
   "nav_menu": {},
   "number_sections": true,
   "sideBar": true,
   "skip_h1_title": false,
   "title_cell": "Table of Contents",
   "title_sidebar": "Contents",
   "toc_cell": false,
   "toc_position": {},
   "toc_section_display": true,
   "toc_window_display": false
  },
  "varInspector": {
   "cols": {
    "lenName": 16,
    "lenType": 16,
    "lenVar": 40
   },
   "kernels_config": {
    "python": {
     "delete_cmd_postfix": "",
     "delete_cmd_prefix": "del ",
     "library": "var_list.py",
     "varRefreshCmd": "print(var_dic_list())"
    },
    "r": {
     "delete_cmd_postfix": ") ",
     "delete_cmd_prefix": "rm(",
     "library": "var_list.r",
     "varRefreshCmd": "cat(var_dic_list()) "
    }
   },
   "types_to_exclude": [
    "module",
    "function",
    "builtin_function_or_method",
    "instance",
    "_Feature"
   ],
   "window_display": false
  }
 },
 "nbformat": 4,
 "nbformat_minor": 5
}
