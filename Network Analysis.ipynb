{
 "cells": [
  {
   "cell_type": "code",
   "execution_count": 1,
   "id": "induced-throat",
   "metadata": {},
   "outputs": [
    {
     "name": "stderr",
     "output_type": "stream",
     "text": [
      "<ipython-input-1-a729b0b348c6>:6: TqdmDeprecationWarning: This function will be removed in tqdm==5.0.0\n",
      "Please use `tqdm.notebook.*` instead of `tqdm._tqdm_notebook.*`\n",
      "  from tqdm._tqdm_notebook import tqdm_notebook\n"
     ]
    }
   ],
   "source": [
    "import re\n",
    "import pandas as pd\n",
    "import string\n",
    "import pickle\n",
    "from textblob import TextBlob\n",
    "from tqdm._tqdm_notebook import tqdm_notebook\n",
    "tqdm_notebook.pandas()\n",
    "from nltk.corpus import stopwords\n",
    "import networkx as nx\n",
    "import itertools\n",
    "import numpy as np\n",
    "\n",
    "import plotly.offline as py\n",
    "import plotly.graph_objects as go\n",
    "\n",
    "from sklearn.preprocessing import MinMaxScaler"
   ]
  },
  {
   "cell_type": "code",
   "execution_count": 2,
   "id": "sapphire-ballet",
   "metadata": {},
   "outputs": [],
   "source": [
    "with open('char_list.pkl', 'rb') as f:\n",
    "    char_list = pickle.load(f)\n",
    "all_books_nosw_singularized = pd.read_pickle('data/allbooks_sing_nosw.pkl')\n",
    "\n",
    "important_chars = ['rand', 'perrin', 'mat', 'egwene', 'elayne', 'nynaeve', 'moiraine', 'min', 'faile', 'aviendha',\n",
    "                  'gawyn', 'lan', 'siuan', 'morgase', 'cadsuane', 'ituralde', 'galad', 'pevara', 'tuon', 'elaida', \n",
    "                  'androl', 'taim', 'logain', 'gareth', 'rhuarc', 'graendal', 'moridin', 'moghedien', 'verin', \n",
    "                  'birgitte', 'loial', 'tam', 'demandred', 'sammael', 'thom']"
   ]
  },
  {
   "cell_type": "markdown",
   "id": "medieval-outline",
   "metadata": {},
   "source": [
    "## Functions for making graphs"
   ]
  },
  {
   "cell_type": "code",
   "execution_count": 3,
   "id": "approximate-payday",
   "metadata": {},
   "outputs": [],
   "source": [
    "def get_chars_in_chapter(split_text, char_list):\n",
    "    return [char for char in char_list if char in split_text]\n",
    "\n",
    "def get_appearances(split_text, chars_in_chapter, graph_dict, indices_dict):\n",
    "    \"\"\"\n",
    "    Get the number of appearances for all characters in a chapter and place the list of appearances into a dict\n",
    "    \n",
    "    \"\"\"\n",
    "    text_array = np.array(split_text)\n",
    "    for char in chars_in_chapter:\n",
    "        char_indices = np.where(text_array == char)[0]\n",
    "        graph_dict[char] = len(char_indices)\n",
    "        indices_dict[char] = char_indices\n",
    "\n",
    "def get_all_interactions(chars_in_chapter, threshold, graph_dict, indices_dict):\n",
    "    all_pairs = itertools.combinations(chars_in_chapter, 2)\n",
    "    for pair in all_pairs:\n",
    "        num_interactions = get_num_interactions( *pair, indices_dict, threshold)\n",
    "        if num_interactions > 1:\n",
    "            graph_dict[pair] = num_interactions\n",
    "\n",
    "def get_num_interactions(char1, char2, indices_dict, threshold):\n",
    "    char1_indices = indices_dict[char1]\n",
    "    char2_indices = indices_dict[char2]\n",
    "    interaction_distances = np.array([abs(interaction[0]-interaction[1]) for interaction in itertools.product(char1_indices,\n",
    "                                                                                                    char2_indices)])\n",
    "    num_interactions = len(np.where(interaction_distances <= threshold)[0])\n",
    "    return num_interactions\n",
    "    \n",
    "def find_chapter_interactions(text, char_list, threshold):\n",
    "    graph_dict = {}\n",
    "    indices_dict = {}\n",
    "    split_text = text.split()\n",
    "    \n",
    "    characters_in_chapter = get_chars_in_chapter(split_text, char_list)\n",
    "    \n",
    "    get_appearances(split_text, characters_in_chapter, graph_dict, indices_dict)\n",
    "    \n",
    "    get_all_interactions(characters_in_chapter, threshold, graph_dict,indices_dict)\n",
    "    return graph_dict"
   ]
  },
  {
   "cell_type": "code",
   "execution_count": 4,
   "id": "romantic-capitol",
   "metadata": {},
   "outputs": [],
   "source": [
    "def add_graphs(graph1, graph2):\n",
    "    \n",
    "    if not graph1:\n",
    "        return graph2\n",
    "    if not graph2:\n",
    "        return graph1\n",
    "    \n",
    "    combined_graph = graph1.copy()\n",
    "    for key, val in graph2.items():\n",
    "        if key not in combined_graph.keys():\n",
    "            combined_graph[key] = val\n",
    "        else: combined_graph[key] +=val\n",
    "    return combined_graph\n",
    "\n",
    "def add_graphs_from_list(graph_list):\n",
    "    combined_graph = graph_list[0]\n",
    "    for new_graph in graph_list[1:]:\n",
    "        combined_graph=add_graphs(combined_graph, new_graph)\n",
    "    return combined_graph\n",
    "\n",
    "def make_cumulative_graphs(graph_list):\n",
    "    cumulative_graph_list = []\n",
    "    \n",
    "    cumulative_graph = graph_list[0]\n",
    "    cumulative_graph_list.append(cumulative_graph.copy())\n",
    "    \n",
    "    for new_graph in graph_list[1:]:\n",
    "        cumulative_graph=add_graphs(cumulative_graph, new_graph)\n",
    "        cumulative_graph_list.append(cumulative_graph.copy())\n",
    "        \n",
    "    return cumulative_graph_list"
   ]
  },
  {
   "cell_type": "code",
   "execution_count": 5,
   "id": "rational-spray",
   "metadata": {},
   "outputs": [],
   "source": [
    "def dict_to_networkx(graph_dict):\n",
    "    graph = nx.Graph()\n",
    "    for key in graph_dict:\n",
    "        if type(key) is str:\n",
    "            graph.add_node(key, size = graph_dict[key])\n",
    "        if type(key) is tuple:\n",
    "            graph.add_edge(*key, weight = graph_dict[key])\n",
    "    return graph"
   ]
  },
  {
   "cell_type": "code",
   "execution_count": 7,
   "id": "outside-possibility",
   "metadata": {},
   "outputs": [
    {
     "data": {
      "application/vnd.jupyter.widget-view+json": {
       "model_id": "f397528ca8dc4779934aad68c04c9649",
       "version_major": 2,
       "version_minor": 0
      },
      "text/plain": [
       "  0%|          | 0/677 [00:00<?, ?it/s]"
      ]
     },
     "metadata": {},
     "output_type": "display_data"
    }
   ],
   "source": [
    "graphs = pd.DataFrame()\n",
    "\n",
    "graphs['chapter_title'] = all_books_nosw_singularized['chapter_title']\n",
    "graphs['cumulative_chapter_number'] = all_books_nosw_singularized['cumulative_chapter_number']\n",
    "\n",
    "graphs['chapter_graph'] = all_books_nosw_singularized.progress_apply(lambda x: find_chapter_interactions(x['text'],important_chars,10),axis=1)\n",
    "\n",
    "graphs['cumulative_graphs'] = make_cumulative_graphs(graphs['chapter_graph'])"
   ]
  },
  {
   "cell_type": "code",
   "execution_count": 16,
   "id": "interracial-silly",
   "metadata": {},
   "outputs": [],
   "source": [
    "graph1 = dict_to_networkx(graphs['cumulative_graphs'][676])\n",
    "graph2 = dict_to_networkx(graphs['cumulative_graphs'][10])\n",
    "graph3 = dict_to_networkx(graphs['chapter_graph'][663])"
   ]
  },
  {
   "cell_type": "markdown",
   "id": "continent-roots",
   "metadata": {},
   "source": [
    "## Plotting with plotly "
   ]
  },
  {
   "cell_type": "code",
   "execution_count": 8,
   "id": "authorized-royal",
   "metadata": {},
   "outputs": [],
   "source": [
    "def scale_edge_weights(graph):\n",
    "    \"\"\"\n",
    "    Scale the edge weights of a networkx graph for graphing\n",
    "    \"\"\"\n",
    "    g = graph.copy()\n",
    "    original_weights = []\n",
    "    for edge in g.edges():\n",
    "        original_weights.append(g.edges()[edge]['weight'])\n",
    "    scaler = MinMaxScaler(feature_range=(.5,15))\n",
    "    new_weights = scaler.fit_transform(np.array(original_weights).reshape(-1,1)).flatten()\n",
    "    for i,edge in enumerate(g.edges()):\n",
    "        g.edges()[edge]['weight'] = new_weights[i]\n",
    "    return g\n",
    "\n",
    "\n",
    "def make_edges(graph, pos, unscaled):\n",
    "    edge_traces = []\n",
    "    edge_text_xs = []\n",
    "    edge_text_ys = []\n",
    "    edge_text_labels = []\n",
    "    for edge in graph.edges():\n",
    "        width = graph.edges()[edge]['weight']\n",
    "        if width < .6:\n",
    "            continue\n",
    "        transparency = max(.5,round(width/5,2))\n",
    "        color_string = f'rgba(100, 149, 237, {transparency})'\n",
    "        \n",
    "        char1  = edge[0]\n",
    "        char2  = edge[1]\n",
    "        x0, y0 = pos[char1]\n",
    "        x1, y1 = pos[char2]\n",
    "        \n",
    "        x = [x0, x1, None]\n",
    "        y = [y0, y1, None]\n",
    "        \n",
    "        \n",
    "        edge_trace = go.Scatter(x     = x,\n",
    "                                y     = y,\n",
    "                                line  = dict(width = width,\n",
    "                                             color = color_string),\n",
    "                                mode  = 'lines')\n",
    "        edge_traces.append(edge_trace)\n",
    "        edge_text_xs.append((x0+x1)/2)\n",
    "        edge_text_ys.append((y0+y1)/2)\n",
    "        connections = unscaled.edges()[edge]['weight']\n",
    "        edge_text_labels.append(char1.capitalize() + ' -- ' + char2.capitalize() + f': {connections} connections')\n",
    "    edge_text_trace = go.Scatter(x         = edge_text_xs,\n",
    "                                 y         = edge_text_ys,\n",
    "                                 text      = edge_text_labels,\n",
    "                                 textposition = \"bottom center\",\n",
    "                                 textfont_size = 10,\n",
    "                                 mode      = 'markers',\n",
    "                                 hoverinfo = 'text',\n",
    "                                 marker    = dict(color = 'rgba(0,0,0,0)',\n",
    "                                                 size  = 1,\n",
    "                                                 line  = None))\n",
    "    \n",
    "    return edge_traces, edge_text_trace"
   ]
  },
  {
   "cell_type": "code",
   "execution_count": 9,
   "id": "funded-contrast",
   "metadata": {
    "code_folding": []
   },
   "outputs": [],
   "source": [
    "def plot_network(graph, save = False, fname = 'graph'):\n",
    "    scaled = scale_edge_weights(graph)\n",
    "    pos = nx.spring_layout(graph, k =.4 , seed = 1)\n",
    "    \n",
    "    #Add edges\n",
    "    edge_traces, edge_text_trace = make_edges(scaled, pos, graph)\n",
    "        \n",
    "    #Add nodes\n",
    "    node_xs = [pos[node][0] for node in scaled.nodes()]\n",
    "    node_ys = [pos[node][1] for node in scaled.nodes()]\n",
    "    node_text = [node.capitalize() for node in scaled.nodes()]\n",
    "    node_trace = go.Scatter(x     = node_xs,\n",
    "                        y         = node_ys,\n",
    "                        text      = node_text,\n",
    "                        textposition = \"bottom center\",\n",
    "                        textfont_size = 14,\n",
    "                        mode      = 'markers+text',\n",
    "                        hoverinfo = 'none',\n",
    "                        marker    = dict(color = '#6959CD',\n",
    "                                         size  = 12,\n",
    "                                         line  = None))\n",
    "    layout = go.Layout(paper_bgcolor='rgba(0,0,0,0)',plot_bgcolor='rgba(0,0,0,0)')\n",
    "    fig = go.Figure(layout = layout)\n",
    "    \n",
    "    for trace in edge_traces:\n",
    "        fig.add_trace(trace)\n",
    "    fig.add_trace(node_trace)\n",
    "    fig.add_trace(edge_text_trace)\n",
    "    \n",
    "    fig.update_layout(showlegend = False, width = 1500, height = 1500)\n",
    "    fig.update_xaxes(showticklabels = False)\n",
    "    fig.update_yaxes(showticklabels = False)\n",
    "    \n",
    "    if save:\n",
    "        fig.write_image('network_graphs/'+fname+'.png')\n",
    "    else:\n",
    "        py.plot(fig, filename='test.html')"
   ]
  },
  {
   "cell_type": "code",
   "execution_count": 12,
   "id": "fewer-number",
   "metadata": {},
   "outputs": [],
   "source": [
    "plot_network(graph1)\n"
   ]
  },
  {
   "cell_type": "code",
   "execution_count": 17,
   "id": "assumed-shoot",
   "metadata": {
    "scrolled": false
   },
   "outputs": [],
   "source": [
    "plot_network(graph3)"
   ]
  },
  {
   "cell_type": "code",
   "execution_count": null,
   "id": "solar-therapy",
   "metadata": {},
   "outputs": [],
   "source": []
  }
 ],
 "metadata": {
  "kernelspec": {
   "display_name": "Python [conda env:metis] *",
   "language": "python",
   "name": "conda-env-metis-py"
  },
  "language_info": {
   "codemirror_mode": {
    "name": "ipython",
    "version": 3
   },
   "file_extension": ".py",
   "mimetype": "text/x-python",
   "name": "python",
   "nbconvert_exporter": "python",
   "pygments_lexer": "ipython3",
   "version": "3.8.6"
  },
  "toc": {
   "base_numbering": 1,
   "nav_menu": {},
   "number_sections": true,
   "sideBar": true,
   "skip_h1_title": false,
   "title_cell": "Table of Contents",
   "title_sidebar": "Contents",
   "toc_cell": false,
   "toc_position": {},
   "toc_section_display": true,
   "toc_window_display": false
  },
  "varInspector": {
   "cols": {
    "lenName": 16,
    "lenType": 16,
    "lenVar": 40
   },
   "kernels_config": {
    "python": {
     "delete_cmd_postfix": "",
     "delete_cmd_prefix": "del ",
     "library": "var_list.py",
     "varRefreshCmd": "print(var_dic_list())"
    },
    "r": {
     "delete_cmd_postfix": ") ",
     "delete_cmd_prefix": "rm(",
     "library": "var_list.r",
     "varRefreshCmd": "cat(var_dic_list()) "
    }
   },
   "types_to_exclude": [
    "module",
    "function",
    "builtin_function_or_method",
    "instance",
    "_Feature"
   ],
   "window_display": false
  }
 },
 "nbformat": 4,
 "nbformat_minor": 5
}
